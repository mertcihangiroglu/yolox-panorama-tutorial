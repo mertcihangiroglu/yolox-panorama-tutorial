{
 "cells": [
  {
   "cell_type": "markdown",
   "id": "2aad954d",
   "metadata": {},
   "source": [
    "# yolox models in torchscript format\n",
    "\n",
    "This notebook shows you how to export [yolox](https://github.com/Megvii-BaseDetection/YOLOX) models in [torchscript](https://pytorch.org/docs/stable/jit.html) format, that later on can be used as an input to [AWS SageMaker Neo](https://docs.aws.amazon.com/sagemaker/latest/dg/neo.html) compilation job or as an [AWS Panorama](https://docs.aws.amazon.com/panorama/latest/dev/index.html) model. For simplicity, we'll use the yolox-s(mall) version, but it should work also for the other model versions. \n",
    "\n",
    "This code is roughly based on the [`tools/export_torchscript.py`](https://github.com/Megvii-BaseDetection/YOLOX/blob/main/tools/export_torchscript.py) script. In order to be compiled by Neo or used by Panorama, the pytorch Sigmoid Linear Unit (SiLU) activation function has to be replaced by a custom implementation, as SiLU is not typically implemented in embedeed runtimes, and the compilation engine Apache TVM does not support it. This idea was taken from the [`tools/export_onnx.py`](https://github.com/Megvii-BaseDetection/YOLOX/blob/main/tools/export_onnx.py) script."
   ]
  },
  {
   "cell_type": "markdown",
   "id": "356578e0",
   "metadata": {},
   "source": [
    "## Get the YOLOX repository and install dependencies"
   ]
  },
  {
   "cell_type": "code",
   "execution_count": null,
   "id": "7f0570d7",
   "metadata": {},
   "outputs": [],
   "source": [
    "!git clone https://github.com/Megvii-BaseDetection/YOLOX"
   ]
  },
  {
   "cell_type": "code",
   "execution_count": null,
   "id": "c7876834",
   "metadata": {},
   "outputs": [],
   "source": [
    "%pip install -r ./YOLOX/requirements.txt\n",
    "%pip install -v -e ./YOLOX/\n",
    "%pip install cython\n",
    "%pip install 'git+https://github.com/cocodataset/cocoapi.git#subdirectory=PythonAPI'"
   ]
  },
  {
   "cell_type": "markdown",
   "id": "86a72e70",
   "metadata": {},
   "source": [
    "yolox requirements.txt does not specify the exact pytorch version, however for SageMaker Neo suppports only pytorch 1.6, 1.7, and 1.8."
   ]
  },
  {
   "cell_type": "code",
   "execution_count": null,
   "id": "00138450",
   "metadata": {},
   "outputs": [],
   "source": [
    "%pip install torch==1.8.0 torchvision==0.9.0"
   ]
  },
  {
   "cell_type": "code",
   "execution_count": null,
   "id": "7b520c2c",
   "metadata": {},
   "outputs": [],
   "source": [
    "import torch\n",
    "import torchvision\n",
    "print('pytorch version:', torch.__version__)\n",
    "print('torchvision version:', torchvision.__version__)"
   ]
  },
  {
   "cell_type": "markdown",
   "id": "650a35f4",
   "metadata": {},
   "source": [
    "## Download the pretrained yolox-s weights\n",
    "\n",
    "YOLOX authors released model weight artifacts pretrained on the [COCO dataset](https://cocodataset.org/). The format of these pretrained models is a pytorch checkpoint file that contains the model's [state dictionary](https://pytorch.org/tutorials/beginner/saving_loading_models.html#what-is-a-state-dict).\n",
    "\n",
    "Refer to [YOLOX GitHub repository](https://github.com/Megvii-BaseDetection/YOLOX) for other pretrained model urls."
   ]
  },
  {
   "cell_type": "code",
   "execution_count": null,
   "id": "fd1c7ed1",
   "metadata": {},
   "outputs": [],
   "source": [
    "!mkdir -p models\n",
    "\n",
    "ckpt_url = 'https://github.com/Megvii-BaseDetection/YOLOX/releases/download/0.1.1rc0/yolox_s.pth'\n",
    "ckpt_filename = './models/yolox_s.pth'\n",
    "\n",
    "!curl -L $ckpt_url -o $ckpt_filename"
   ]
  },
  {
   "cell_type": "markdown",
   "id": "5e203cd5",
   "metadata": {},
   "source": [
    "## Initialize the network\n",
    "\n",
    "The weights contained in the state dictionary can be loaded into a neural network. We'll need a fully initialized network in order to export it in torchscript format."
   ]
  },
  {
   "cell_type": "code",
   "execution_count": null,
   "id": "5a74064a",
   "metadata": {},
   "outputs": [],
   "source": [
    "from torch import nn\n",
    "from yolox.exp import get_exp\n",
    "\n",
    "exp = get_exp(None, 'yolox-s')\n",
    "model = exp.get_model()\n",
    "ckpt = torch.load(ckpt_filename, map_location='cpu')\n",
    "model.load_state_dict(ckpt['model'])"
   ]
  },
  {
   "cell_type": "markdown",
   "id": "d895e476",
   "metadata": {},
   "source": [
    "## Patch the model before exporting\n",
    "\n",
    "As mentioned earlier, the pytorch SiLU activation function has to be replaced by a custom implementation. Also we'll disable decoding in the model head, as it is used only during training. We'll also set the model to evaluation mode (disables dropout and other training-only features)."
   ]
  },
  {
   "cell_type": "code",
   "execution_count": null,
   "id": "8a6fe19d",
   "metadata": {},
   "outputs": [],
   "source": [
    "from yolox.utils import replace_module\n",
    "from yolox.models.network_blocks import SiLU\n",
    "\n",
    "model = model.eval()\n",
    "model = replace_module(model, nn.SiLU, SiLU)\n",
    "model.head.decode_in_inference = False"
   ]
  },
  {
   "cell_type": "markdown",
   "id": "fab48496",
   "metadata": {},
   "source": [
    "## Export model in torchscript format\n",
    "\n",
    "Unlike a dynamic pytorch model, models saved in torchscript are static. This means that the input size of your model can not be any more dynamic, and you have to specify it at export time (now). The yolox experiment instance give you hint about the input size, in the case of yolox-s model, it is 640x640. We'll create a dummy input image of this size, as this is required when exporting the model in torchscript format. The other dimensions of the input is the batch size (1) and the channels (3 for red, green, and blue)."
   ]
  },
  {
   "cell_type": "code",
   "execution_count": null,
   "id": "789d215b",
   "metadata": {},
   "outputs": [],
   "source": [
    "traced_model_filename = './models/yolox_s_torchscript.pth'\n",
    "\n",
    "input_size = [1, 3, *exp.test_size]\n",
    "print('Exported model input size:', input_size)\n",
    "dummy_input = torch.randn(*input_size)\n",
    "traced_model = torch.jit.trace(model, dummy_input)\n",
    "traced_model.save(traced_model_filename)\n",
    "print('Exported model was saved to:', traced_model_filename)"
   ]
  },
  {
   "cell_type": "markdown",
   "id": "7066ad1e",
   "metadata": {},
   "source": [
    "## Archive the model\n",
    "\n",
    "SageMaker Neo and Panorama both expect the model archived in a tar.gz file. "
   ]
  },
  {
   "cell_type": "code",
   "execution_count": null,
   "id": "9bae83ef",
   "metadata": {},
   "outputs": [],
   "source": [
    "import tarfile\n",
    "\n",
    "model_archive_filename = './models/yolox_s_torchscript.tar.gz'\n",
    "with tarfile.open(model_archive_filename, \"w:gz\") as f:\n",
    "    f.add(traced_model_filename)\n",
    "print('Exported model was archived as:', model_archive_filename)"
   ]
  },
  {
   "cell_type": "markdown",
   "id": "15eb91c0",
   "metadata": {},
   "source": [
    "Now you can specify this archive as a Panorama model asset, or upload it to S3 and start a SageMaker Neo compilation job with it."
   ]
  }
 ],
 "metadata": {
  "kernelspec": {
   "display_name": "conda_pytorch_p36",
   "language": "python",
   "name": "conda_pytorch_p36"
  },
  "language_info": {
   "codemirror_mode": {
    "name": "ipython",
    "version": 3
   },
   "file_extension": ".py",
   "mimetype": "text/x-python",
   "name": "python",
   "nbconvert_exporter": "python",
   "pygments_lexer": "ipython3",
   "version": "3.6.13"
  }
 },
 "nbformat": 4,
 "nbformat_minor": 5
}
